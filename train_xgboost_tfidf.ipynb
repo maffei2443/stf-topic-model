{
 "cells": [
  {
   "cell_type": "code",
   "execution_count": 1,
   "metadata": {},
   "outputs": [],
   "source": [
    "%load_ext autoreload\n",
    "%autoreload 2\n",
    "\n",
    "import os\n",
    "import sys\n",
    "import pickle\n",
    "import pandas as pd\n",
    "import numpy as np\n",
    "from joblib import dump, load\n",
    "from xgboost import XGBClassifier\n",
    "from sklearn.pipeline import Pipeline\n",
    "from sklearn.multiclass import OneVsRestClassifier\n",
    "from sklearn.metrics import confusion_matrix, classification_report, hamming_loss, zero_one_loss, accuracy_score\n",
    "from sklearn.preprocessing import LabelEncoder, MultiLabelBinarizer\n",
    "from sklearn.model_selection import train_test_split\n",
    "from sklearn.feature_extraction.text import TfidfVectorizer\n",
    "from ast import literal_eval"
   ]
  },
  {
   "cell_type": "code",
   "execution_count": 2,
   "metadata": {},
   "outputs": [],
   "source": [
    "THEMES = [5, 6, 26, 33, 139, 163, 232, 313, 339, 350, 406, 409, 555, 589,\n",
    "          597, 634, 660, 695, 729, 766, 773, 793, 800, 810, 852, 895, 951, 975]\n",
    "TRAIN_DATA_PATH = '../train.csv'\n",
    "TEST_DATA_PATH = '../test.csv'\n",
    "VALIDATION_DATA_PATH = '../validation.csv'"
   ]
  },
  {
   "cell_type": "code",
   "execution_count": 3,
   "metadata": {},
   "outputs": [],
   "source": [
    "def groupby_process(df):\n",
    "    new_df = df.sort_values(['process_id', 'page'])\n",
    "    new_df = new_df.groupby(\n",
    "                ['process_id', 'themes'],\n",
    "                group_keys=False\n",
    "            ).apply(lambda x: x.body.str.cat(sep=' ')).reset_index()\n",
    "    new_df = new_df.rename(index=str, columns={0: \"body\"})\n",
    "    return new_df\n",
    "\n",
    "def get_data(path, preds=None, key=None):\n",
    "    data = pd.read_csv(path)\n",
    "    data = data.rename(columns={ 'pages': 'page'})\n",
    "#     data[\"preds\"] = preds[key]\n",
    "#     data = data[data[\"preds\"] != \"outros\"]\n",
    "    data = groupby_process(data)\n",
    "    data.themes = data.themes.apply(lambda x: literal_eval(x))\n",
    "    return data\n",
    "\n",
    "def transform_y(train_labels, test_labels):\n",
    "    mlb = MultiLabelBinarizer()\n",
    "    mlb.fit(train_labels)\n",
    "\n",
    "    mlb_train = mlb.transform(train_labels)\n",
    "    mlb_test = mlb.transform(test_labels)\n",
    "\n",
    "    print(mlb.classes_)\n",
    "\n",
    "    return mlb_train, mlb_test, mlb"
   ]
  },
  {
   "cell_type": "code",
   "execution_count": 4,
   "metadata": {},
   "outputs": [
    {
     "name": "stdout",
     "output_type": "stream",
     "text": [
      "[  0   5   6  26  33 139 163 232 313 339 350 406 409 555 589 597 634 660\n",
      " 695 729 766 773 793 800 810 852 895 951 975]\n",
      "X_train: (31851,), \n",
      "\ty_train: (31851, 29)\n",
      "X_test: (6839,), \n",
      "\ty_test: (6839, 29)\n",
      "Classes:  [  0   5   6  26  33 139 163 232 313 339 350 406 409 555 589 597 634 660\n",
      " 695 729 766 773 793 800 810 852 895 951 975]\n",
      "We're classifying 29 themes!\n"
     ]
    }
   ],
   "source": [
    "train_data = get_data(TRAIN_DATA_PATH)\n",
    "test_data = get_data(TEST_DATA_PATH)\n",
    "validation_data = get_data(VALIDATION_DATA_PATH)\n",
    "\n",
    "train_data.themes = train_data.themes.apply(lambda x: list(set(sorted([i if i in THEMES else 0 for i in x]))))\n",
    "test_data.themes = test_data.themes.apply(lambda x: list(set(sorted([i if i in THEMES else 0 for i in x]))))\n",
    "validation_data.themes = validation_data.themes.apply(lambda x: list(set(sorted([i if i in THEMES else 0 for i in x]))))\n",
    "\n",
    "y_train, y_test, mlb = transform_y(train_data.themes, test_data.themes)\n",
    "\n",
    "X_train = train_data.body\n",
    "X_test = test_data.body\n",
    "print('X_train: {}, \\n\\ty_train: {}'.format(X_train.shape, y_train.shape))\n",
    "print('X_test: {}, \\n\\ty_test: {}'.format(X_test.shape, y_test.shape))\n",
    "print('Classes: ', mlb.classes_)\n",
    "print('We\\'re classifying {} themes!'.format(y_train.shape[1]))"
   ]
  },
  {
   "cell_type": "code",
   "execution_count": 21,
   "metadata": {},
   "outputs": [],
   "source": [
    "from sklearn.pipeline import Pipeline\n",
    "from sklearn.feature_extraction.text import TfidfVectorizer\n",
    "from sklearn.svm import LinearSVC\n",
    "from sklearn.naive_bayes import MultinomialNB\n",
    "from xgboost.sklearn import XGBClassifier\n",
    "from sklearn.multiclass import OneVsRestClassifier\n",
    "\n",
    "vectorizer = TfidfVectorizer(ngram_range=(1, 1), sublinear_tf=True,\n",
    "                                   min_df=50, max_df=0.5)\n",
    "\n",
    "xgboost = OneVsRestClassifier(XGBClassifier(\n",
    "                n_jobs=-1,\n",
    "                max_depth=4,\n",
    "                learning_rate=0.1,\n",
    "                n_estimators=500,\n",
    "            ),\n",
    "            n_jobs=1)"
   ]
  },
  {
   "cell_type": "code",
   "execution_count": 18,
   "metadata": {},
   "outputs": [],
   "source": [
    "from scipy.stats import randint as sp_randint\n",
    "from scipy.stats import uniform as sp_uni\n",
    "\n",
    "param_dist = {\"estimator__max_depth\": sp_randint(1, 8),\n",
    "              \"estimator__learning_rate\": [0.1, 0.3, 0.5],\n",
    "              \"estimator__n_estimators\": [30, 100, 300, 500, 1000]}\n"
   ]
  },
  {
   "cell_type": "code",
   "execution_count": 19,
   "metadata": {},
   "outputs": [],
   "source": [
    "X_train = vectorizer.fit_transform(X_train)\n",
    "X_valid = vectorizer.transform(validation_data.body)\n",
    "X_test = vectorizer.transform(X_test)\n",
    "y_valid = mlb.transform(validation_data.themes)"
   ]
  },
  {
   "cell_type": "code",
   "execution_count": 20,
   "metadata": {},
   "outputs": [
    {
     "data": {
      "text/plain": [
       "81424"
      ]
     },
     "execution_count": 20,
     "metadata": {},
     "output_type": "execute_result"
    }
   ],
   "source": [
    "len(vectorizerctorizer.vocabulary_)"
   ]
  },
  {
   "cell_type": "code",
   "execution_count": 22,
   "metadata": {},
   "outputs": [
    {
     "name": "stdout",
     "output_type": "stream",
     "text": [
      "Fitting 3 folds for each of 20 candidates, totalling 60 fits\n",
      "[CV] estimator__learning_rate=0.5, estimator__max_depth=4, estimator__n_estimators=1000 \n",
      "[CV]  estimator__learning_rate=0.5, estimator__max_depth=4, estimator__n_estimators=1000, total=18.6min\n"
     ]
    },
    {
     "name": "stderr",
     "output_type": "stream",
     "text": [
      "[Parallel(n_jobs=1)]: Done   1 out of   1 | elapsed: 19.8min remaining:    0.0s\n"
     ]
    },
    {
     "name": "stdout",
     "output_type": "stream",
     "text": [
      "[CV] estimator__learning_rate=0.5, estimator__max_depth=4, estimator__n_estimators=1000 \n",
      "[CV]  estimator__learning_rate=0.5, estimator__max_depth=4, estimator__n_estimators=1000, total=17.1min\n",
      "[CV] estimator__learning_rate=0.5, estimator__max_depth=4, estimator__n_estimators=1000 \n",
      "[CV]  estimator__learning_rate=0.5, estimator__max_depth=4, estimator__n_estimators=1000, total=18.8min\n",
      "[CV] estimator__learning_rate=0.5, estimator__max_depth=3, estimator__n_estimators=1000 \n",
      "[CV]  estimator__learning_rate=0.5, estimator__max_depth=3, estimator__n_estimators=1000, total=17.7min\n",
      "[CV] estimator__learning_rate=0.5, estimator__max_depth=3, estimator__n_estimators=1000 \n",
      "[CV]  estimator__learning_rate=0.5, estimator__max_depth=3, estimator__n_estimators=1000, total=16.4min\n",
      "[CV] estimator__learning_rate=0.5, estimator__max_depth=3, estimator__n_estimators=1000 \n",
      "[CV]  estimator__learning_rate=0.5, estimator__max_depth=3, estimator__n_estimators=1000, total=18.3min\n",
      "[CV] estimator__learning_rate=0.1, estimator__max_depth=7, estimator__n_estimators=100 \n",
      "[CV]  estimator__learning_rate=0.1, estimator__max_depth=7, estimator__n_estimators=100, total= 7.6min\n",
      "[CV] estimator__learning_rate=0.1, estimator__max_depth=7, estimator__n_estimators=100 \n",
      "[CV]  estimator__learning_rate=0.1, estimator__max_depth=7, estimator__n_estimators=100, total= 6.8min\n",
      "[CV] estimator__learning_rate=0.1, estimator__max_depth=7, estimator__n_estimators=100 \n",
      "[CV]  estimator__learning_rate=0.1, estimator__max_depth=7, estimator__n_estimators=100, total= 8.0min\n",
      "[CV] estimator__learning_rate=0.5, estimator__max_depth=7, estimator__n_estimators=300 \n",
      "[CV]  estimator__learning_rate=0.5, estimator__max_depth=7, estimator__n_estimators=300, total= 8.6min\n",
      "[CV] estimator__learning_rate=0.5, estimator__max_depth=7, estimator__n_estimators=300 \n",
      "[CV]  estimator__learning_rate=0.5, estimator__max_depth=7, estimator__n_estimators=300, total= 7.9min\n",
      "[CV] estimator__learning_rate=0.5, estimator__max_depth=7, estimator__n_estimators=300 \n",
      "[CV]  estimator__learning_rate=0.5, estimator__max_depth=7, estimator__n_estimators=300, total= 8.6min\n",
      "[CV] estimator__learning_rate=0.5, estimator__max_depth=5, estimator__n_estimators=500 \n",
      "[CV]  estimator__learning_rate=0.5, estimator__max_depth=5, estimator__n_estimators=500, total=11.5min\n",
      "[CV] estimator__learning_rate=0.5, estimator__max_depth=5, estimator__n_estimators=500 \n",
      "[CV]  estimator__learning_rate=0.5, estimator__max_depth=5, estimator__n_estimators=500, total=10.5min\n",
      "[CV] estimator__learning_rate=0.5, estimator__max_depth=5, estimator__n_estimators=500 \n",
      "[CV]  estimator__learning_rate=0.5, estimator__max_depth=5, estimator__n_estimators=500, total=11.5min\n",
      "[CV] estimator__learning_rate=0.5, estimator__max_depth=6, estimator__n_estimators=1000 \n",
      "[CV]  estimator__learning_rate=0.5, estimator__max_depth=6, estimator__n_estimators=1000, total=19.3min\n",
      "[CV] estimator__learning_rate=0.5, estimator__max_depth=6, estimator__n_estimators=1000 \n",
      "[CV]  estimator__learning_rate=0.5, estimator__max_depth=6, estimator__n_estimators=1000, total=17.7min\n",
      "[CV] estimator__learning_rate=0.5, estimator__max_depth=6, estimator__n_estimators=1000 \n",
      "[CV]  estimator__learning_rate=0.5, estimator__max_depth=6, estimator__n_estimators=1000, total=19.4min\n",
      "[CV] estimator__learning_rate=0.3, estimator__max_depth=4, estimator__n_estimators=100 \n",
      "[CV]  estimator__learning_rate=0.3, estimator__max_depth=4, estimator__n_estimators=100, total= 5.0min\n",
      "[CV] estimator__learning_rate=0.3, estimator__max_depth=4, estimator__n_estimators=100 \n",
      "[CV]  estimator__learning_rate=0.3, estimator__max_depth=4, estimator__n_estimators=100, total= 4.7min\n",
      "[CV] estimator__learning_rate=0.3, estimator__max_depth=4, estimator__n_estimators=100 \n",
      "[CV]  estimator__learning_rate=0.3, estimator__max_depth=4, estimator__n_estimators=100, total= 5.2min\n",
      "[CV] estimator__learning_rate=0.1, estimator__max_depth=1, estimator__n_estimators=500 \n",
      "[CV]  estimator__learning_rate=0.1, estimator__max_depth=1, estimator__n_estimators=500, total= 8.7min\n",
      "[CV] estimator__learning_rate=0.1, estimator__max_depth=1, estimator__n_estimators=500 \n",
      "[CV]  estimator__learning_rate=0.1, estimator__max_depth=1, estimator__n_estimators=500, total= 8.1min\n",
      "[CV] estimator__learning_rate=0.1, estimator__max_depth=1, estimator__n_estimators=500 \n",
      "[CV]  estimator__learning_rate=0.1, estimator__max_depth=1, estimator__n_estimators=500, total= 9.2min\n",
      "[CV] estimator__learning_rate=0.3, estimator__max_depth=6, estimator__n_estimators=1000 \n",
      "[CV]  estimator__learning_rate=0.3, estimator__max_depth=6, estimator__n_estimators=1000, total=21.1min\n",
      "[CV] estimator__learning_rate=0.3, estimator__max_depth=6, estimator__n_estimators=1000 \n",
      "[CV]  estimator__learning_rate=0.3, estimator__max_depth=6, estimator__n_estimators=1000, total=19.0min\n",
      "[CV] estimator__learning_rate=0.3, estimator__max_depth=6, estimator__n_estimators=1000 \n",
      "[CV]  estimator__learning_rate=0.3, estimator__max_depth=6, estimator__n_estimators=1000, total=20.7min\n",
      "[CV] estimator__learning_rate=0.1, estimator__max_depth=1, estimator__n_estimators=300 \n",
      "[CV]  estimator__learning_rate=0.1, estimator__max_depth=1, estimator__n_estimators=300, total= 6.3min\n",
      "[CV] estimator__learning_rate=0.1, estimator__max_depth=1, estimator__n_estimators=300 \n",
      "[CV]  estimator__learning_rate=0.1, estimator__max_depth=1, estimator__n_estimators=300, total= 5.9min\n",
      "[CV] estimator__learning_rate=0.1, estimator__max_depth=1, estimator__n_estimators=300 \n",
      "[CV]  estimator__learning_rate=0.1, estimator__max_depth=1, estimator__n_estimators=300, total= 6.6min\n",
      "[CV] estimator__learning_rate=0.5, estimator__max_depth=7, estimator__n_estimators=100 \n",
      "[CV]  estimator__learning_rate=0.5, estimator__max_depth=7, estimator__n_estimators=100, total= 5.0min\n",
      "[CV] estimator__learning_rate=0.5, estimator__max_depth=7, estimator__n_estimators=100 \n",
      "[CV]  estimator__learning_rate=0.5, estimator__max_depth=7, estimator__n_estimators=100, total= 4.7min\n",
      "[CV] estimator__learning_rate=0.5, estimator__max_depth=7, estimator__n_estimators=100 \n",
      "[CV]  estimator__learning_rate=0.5, estimator__max_depth=7, estimator__n_estimators=100, total= 5.1min\n",
      "[CV] estimator__learning_rate=0.5, estimator__max_depth=6, estimator__n_estimators=300 \n",
      "[CV]  estimator__learning_rate=0.5, estimator__max_depth=6, estimator__n_estimators=300, total= 8.4min\n",
      "[CV] estimator__learning_rate=0.5, estimator__max_depth=6, estimator__n_estimators=300 \n",
      "[CV]  estimator__learning_rate=0.5, estimator__max_depth=6, estimator__n_estimators=300, total= 7.7min\n",
      "[CV] estimator__learning_rate=0.5, estimator__max_depth=6, estimator__n_estimators=300 \n",
      "[CV]  estimator__learning_rate=0.5, estimator__max_depth=6, estimator__n_estimators=300, total= 8.5min\n",
      "[CV] estimator__learning_rate=0.5, estimator__max_depth=4, estimator__n_estimators=30 \n",
      "[CV]  estimator__learning_rate=0.5, estimator__max_depth=4, estimator__n_estimators=30, total= 3.2min\n",
      "[CV] estimator__learning_rate=0.5, estimator__max_depth=4, estimator__n_estimators=30 \n",
      "[CV]  estimator__learning_rate=0.5, estimator__max_depth=4, estimator__n_estimators=30, total= 3.1min\n",
      "[CV] estimator__learning_rate=0.5, estimator__max_depth=4, estimator__n_estimators=30 \n",
      "[CV]  estimator__learning_rate=0.5, estimator__max_depth=4, estimator__n_estimators=30, total= 3.4min\n",
      "[CV] estimator__learning_rate=0.5, estimator__max_depth=5, estimator__n_estimators=300 \n",
      "[CV]  estimator__learning_rate=0.5, estimator__max_depth=5, estimator__n_estimators=300, total= 8.3min\n",
      "[CV] estimator__learning_rate=0.5, estimator__max_depth=5, estimator__n_estimators=300 \n",
      "[CV]  estimator__learning_rate=0.5, estimator__max_depth=5, estimator__n_estimators=300, total= 7.6min\n",
      "[CV] estimator__learning_rate=0.5, estimator__max_depth=5, estimator__n_estimators=300 \n",
      "[CV]  estimator__learning_rate=0.5, estimator__max_depth=5, estimator__n_estimators=300, total= 8.3min\n",
      "[CV] estimator__learning_rate=0.5, estimator__max_depth=5, estimator__n_estimators=30 \n",
      "[CV]  estimator__learning_rate=0.5, estimator__max_depth=5, estimator__n_estimators=30, total= 3.4min\n",
      "[CV] estimator__learning_rate=0.5, estimator__max_depth=5, estimator__n_estimators=30 \n",
      "[CV]  estimator__learning_rate=0.5, estimator__max_depth=5, estimator__n_estimators=30, total= 3.2min\n"
     ]
    },
    {
     "name": "stdout",
     "output_type": "stream",
     "text": [
      "[CV] estimator__learning_rate=0.5, estimator__max_depth=5, estimator__n_estimators=30 \n",
      "[CV]  estimator__learning_rate=0.5, estimator__max_depth=5, estimator__n_estimators=30, total= 3.5min\n",
      "[CV] estimator__learning_rate=0.5, estimator__max_depth=2, estimator__n_estimators=500 \n",
      "[CV]  estimator__learning_rate=0.5, estimator__max_depth=2, estimator__n_estimators=500, total= 9.4min\n",
      "[CV] estimator__learning_rate=0.5, estimator__max_depth=2, estimator__n_estimators=500 \n",
      "[CV]  estimator__learning_rate=0.5, estimator__max_depth=2, estimator__n_estimators=500, total= 8.8min\n",
      "[CV] estimator__learning_rate=0.5, estimator__max_depth=2, estimator__n_estimators=500 \n",
      "[CV]  estimator__learning_rate=0.5, estimator__max_depth=2, estimator__n_estimators=500, total= 9.9min\n",
      "[CV] estimator__learning_rate=0.1, estimator__max_depth=4, estimator__n_estimators=100 \n",
      "[CV]  estimator__learning_rate=0.1, estimator__max_depth=4, estimator__n_estimators=100, total= 6.5min\n",
      "[CV] estimator__learning_rate=0.1, estimator__max_depth=4, estimator__n_estimators=100 \n",
      "[CV]  estimator__learning_rate=0.1, estimator__max_depth=4, estimator__n_estimators=100, total= 5.8min\n",
      "[CV] estimator__learning_rate=0.1, estimator__max_depth=4, estimator__n_estimators=100 \n",
      "[CV]  estimator__learning_rate=0.1, estimator__max_depth=4, estimator__n_estimators=100, total= 6.8min\n",
      "[CV] estimator__learning_rate=0.3, estimator__max_depth=1, estimator__n_estimators=100 \n",
      "[CV]  estimator__learning_rate=0.3, estimator__max_depth=1, estimator__n_estimators=100, total= 3.6min\n",
      "[CV] estimator__learning_rate=0.3, estimator__max_depth=1, estimator__n_estimators=100 \n",
      "[CV]  estimator__learning_rate=0.3, estimator__max_depth=1, estimator__n_estimators=100, total= 3.4min\n",
      "[CV] estimator__learning_rate=0.3, estimator__max_depth=1, estimator__n_estimators=100 \n",
      "[CV]  estimator__learning_rate=0.3, estimator__max_depth=1, estimator__n_estimators=100, total= 3.7min\n",
      "[CV] estimator__learning_rate=0.1, estimator__max_depth=2, estimator__n_estimators=500 \n",
      "[CV]  estimator__learning_rate=0.1, estimator__max_depth=2, estimator__n_estimators=500, total=11.4min\n",
      "[CV] estimator__learning_rate=0.1, estimator__max_depth=2, estimator__n_estimators=500 \n",
      "[CV]  estimator__learning_rate=0.1, estimator__max_depth=2, estimator__n_estimators=500, total=10.5min\n",
      "[CV] estimator__learning_rate=0.1, estimator__max_depth=2, estimator__n_estimators=500 \n",
      "[CV]  estimator__learning_rate=0.1, estimator__max_depth=2, estimator__n_estimators=500, total=12.0min\n",
      "[CV] estimator__learning_rate=0.5, estimator__max_depth=4, estimator__n_estimators=500 \n",
      "[CV]  estimator__learning_rate=0.5, estimator__max_depth=4, estimator__n_estimators=500, total=11.1min\n",
      "[CV] estimator__learning_rate=0.5, estimator__max_depth=4, estimator__n_estimators=500 \n",
      "[CV]  estimator__learning_rate=0.5, estimator__max_depth=4, estimator__n_estimators=500, total=10.2min\n",
      "[CV] estimator__learning_rate=0.5, estimator__max_depth=4, estimator__n_estimators=500 \n",
      "[CV]  estimator__learning_rate=0.5, estimator__max_depth=4, estimator__n_estimators=500, total=11.2min\n"
     ]
    },
    {
     "name": "stderr",
     "output_type": "stream",
     "text": [
      "[Parallel(n_jobs=1)]: Done  60 out of  60 | elapsed: 645.8min finished\n"
     ]
    },
    {
     "data": {
      "text/plain": [
       "RandomizedSearchCV(cv=None, error_score='raise',\n",
       "          estimator=OneVsRestClassifier(estimator=XGBClassifier(base_score=0.5, booster='gbtree', colsample_bylevel=1,\n",
       "       colsample_bytree=1, gamma=0, learning_rate=0.1, max_delta_step=0,\n",
       "       max_depth=4, min_child_weight=1, missing=None, n_estimators=500,\n",
       "       n_jobs=-1, nthread=None, objective='binary:logistic',\n",
       "       random_state=0, reg_alpha=0, reg_lambda=1, scale_pos_weight=1,\n",
       "       seed=None, silent=True, subsample=1),\n",
       "          n_jobs=1),\n",
       "          fit_params=None, iid=False, n_iter=20, n_jobs=1,\n",
       "          param_distributions={'estimator__max_depth': <scipy.stats._distn_infrastructure.rv_frozen object at 0x7f60bdb47f98>, 'estimator__learning_rate': [0.1, 0.3, 0.5], 'estimator__n_estimators': [30, 100, 300, 500, 1000]},\n",
       "          pre_dispatch='2*n_jobs', random_state=42, refit=False,\n",
       "          return_train_score='warn', scoring=None, verbose=2)"
      ]
     },
     "execution_count": 22,
     "metadata": {},
     "output_type": "execute_result"
    }
   ],
   "source": [
    "from sklearn.model_selection import RandomizedSearchCV\n",
    "\n",
    "random_search = RandomizedSearchCV(xgboost, param_distributions=param_dist,\n",
    "                                   n_iter=20, n_jobs=1, iid=False, refit=False,\n",
    "                                   verbose=2, random_state=42)\n",
    "random_search.fit(X_valid, y_valid)"
   ]
  },
  {
   "cell_type": "code",
   "execution_count": 23,
   "metadata": {},
   "outputs": [
    {
     "name": "stderr",
     "output_type": "stream",
     "text": [
      "/home/isis/.env/lib/python3.6/site-packages/sklearn/utils/deprecation.py:122: FutureWarning: You are accessing a training score ('split0_train_score'), which will not be available by default any more in 0.21. If you need training scores, please set return_train_score=True\n",
      "  warnings.warn(*warn_args, **warn_kwargs)\n",
      "/home/isis/.env/lib/python3.6/site-packages/sklearn/utils/deprecation.py:122: FutureWarning: You are accessing a training score ('split1_train_score'), which will not be available by default any more in 0.21. If you need training scores, please set return_train_score=True\n",
      "  warnings.warn(*warn_args, **warn_kwargs)\n",
      "/home/isis/.env/lib/python3.6/site-packages/sklearn/utils/deprecation.py:122: FutureWarning: You are accessing a training score ('split2_train_score'), which will not be available by default any more in 0.21. If you need training scores, please set return_train_score=True\n",
      "  warnings.warn(*warn_args, **warn_kwargs)\n",
      "/home/isis/.env/lib/python3.6/site-packages/sklearn/utils/deprecation.py:122: FutureWarning: You are accessing a training score ('mean_train_score'), which will not be available by default any more in 0.21. If you need training scores, please set return_train_score=True\n",
      "  warnings.warn(*warn_args, **warn_kwargs)\n",
      "/home/isis/.env/lib/python3.6/site-packages/sklearn/utils/deprecation.py:122: FutureWarning: You are accessing a training score ('std_train_score'), which will not be available by default any more in 0.21. If you need training scores, please set return_train_score=True\n",
      "  warnings.warn(*warn_args, **warn_kwargs)\n"
     ]
    },
    {
     "data": {
      "text/plain": [
       "{'mean_fit_time': array([1053.79960982, 1012.17796572,  411.63576015,  464.25849446,\n",
       "         633.2705272 , 1091.47795343,  261.72865176,  484.03086972,\n",
       "        1178.29943895,  339.45550481,  259.84234103,  456.94132328,\n",
       "         158.04578495,  447.44196924,  164.8339657 ,  525.04841661,\n",
       "         347.27201931,  176.61875502,  642.8788201 ,  614.17706052]),\n",
       " 'std_fit_time': array([51.08567669, 55.25825137, 36.49884395, 26.60470786, 33.57374011,\n",
       "        50.75376202, 19.3187573 , 32.28077435, 59.39604779, 23.58725634,\n",
       "        18.12687872, 25.80619513, 13.48224903, 26.10983934, 12.98115601,\n",
       "        33.92960511, 29.7745101 , 12.39511817, 44.12709222, 31.81958291]),\n",
       " 'mean_score_time': array([36.4256444 , 36.7630314 , 37.14055093, 37.08242623, 36.53297575,\n",
       "        35.77673372, 35.71005948, 35.92802262, 37.55801479, 36.33566658,\n",
       "        35.80561972, 35.78043906, 34.89083219, 35.69628565, 35.48374176,\n",
       "        35.65119521, 35.54993876, 36.51039608, 36.81485224, 35.81126372]),\n",
       " 'std_score_time': array([6.3428821 , 7.22759584, 6.79859067, 7.24590534, 6.94419731,\n",
       "        6.40213928, 6.18450283, 6.28988718, 5.70723589, 5.51584212,\n",
       "        6.71840033, 6.30921722, 6.126537  , 6.53507895, 6.95162688,\n",
       "        7.00055546, 5.83132525, 6.43228386, 6.76121802, 6.66678607]),\n",
       " 'param_estimator__learning_rate': masked_array(data=[0.5, 0.5, 0.1, 0.5, 0.5, 0.5, 0.3, 0.1, 0.3, 0.1, 0.5,\n",
       "                    0.5, 0.5, 0.5, 0.5, 0.5, 0.1, 0.3, 0.1, 0.5],\n",
       "              mask=[False, False, False, False, False, False, False, False,\n",
       "                    False, False, False, False, False, False, False, False,\n",
       "                    False, False, False, False],\n",
       "        fill_value='?',\n",
       "             dtype=object),\n",
       " 'param_estimator__max_depth': masked_array(data=[4, 3, 7, 7, 5, 6, 4, 1, 6, 1, 7, 6, 4, 5, 5, 2, 4, 1,\n",
       "                    2, 4],\n",
       "              mask=[False, False, False, False, False, False, False, False,\n",
       "                    False, False, False, False, False, False, False, False,\n",
       "                    False, False, False, False],\n",
       "        fill_value='?',\n",
       "             dtype=object),\n",
       " 'param_estimator__n_estimators': masked_array(data=[1000, 1000, 100, 300, 500, 1000, 100, 500, 1000, 300,\n",
       "                    100, 300, 30, 300, 30, 500, 100, 100, 500, 500],\n",
       "              mask=[False, False, False, False, False, False, False, False,\n",
       "                    False, False, False, False, False, False, False, False,\n",
       "                    False, False, False, False],\n",
       "        fill_value='?',\n",
       "             dtype=object),\n",
       " 'params': [{'estimator__learning_rate': 0.5,\n",
       "   'estimator__max_depth': 4,\n",
       "   'estimator__n_estimators': 1000},\n",
       "  {'estimator__learning_rate': 0.5,\n",
       "   'estimator__max_depth': 3,\n",
       "   'estimator__n_estimators': 1000},\n",
       "  {'estimator__learning_rate': 0.1,\n",
       "   'estimator__max_depth': 7,\n",
       "   'estimator__n_estimators': 100},\n",
       "  {'estimator__learning_rate': 0.5,\n",
       "   'estimator__max_depth': 7,\n",
       "   'estimator__n_estimators': 300},\n",
       "  {'estimator__learning_rate': 0.5,\n",
       "   'estimator__max_depth': 5,\n",
       "   'estimator__n_estimators': 500},\n",
       "  {'estimator__learning_rate': 0.5,\n",
       "   'estimator__max_depth': 6,\n",
       "   'estimator__n_estimators': 1000},\n",
       "  {'estimator__learning_rate': 0.3,\n",
       "   'estimator__max_depth': 4,\n",
       "   'estimator__n_estimators': 100},\n",
       "  {'estimator__learning_rate': 0.1,\n",
       "   'estimator__max_depth': 1,\n",
       "   'estimator__n_estimators': 500},\n",
       "  {'estimator__learning_rate': 0.3,\n",
       "   'estimator__max_depth': 6,\n",
       "   'estimator__n_estimators': 1000},\n",
       "  {'estimator__learning_rate': 0.1,\n",
       "   'estimator__max_depth': 1,\n",
       "   'estimator__n_estimators': 300},\n",
       "  {'estimator__learning_rate': 0.5,\n",
       "   'estimator__max_depth': 7,\n",
       "   'estimator__n_estimators': 100},\n",
       "  {'estimator__learning_rate': 0.5,\n",
       "   'estimator__max_depth': 6,\n",
       "   'estimator__n_estimators': 300},\n",
       "  {'estimator__learning_rate': 0.5,\n",
       "   'estimator__max_depth': 4,\n",
       "   'estimator__n_estimators': 30},\n",
       "  {'estimator__learning_rate': 0.5,\n",
       "   'estimator__max_depth': 5,\n",
       "   'estimator__n_estimators': 300},\n",
       "  {'estimator__learning_rate': 0.5,\n",
       "   'estimator__max_depth': 5,\n",
       "   'estimator__n_estimators': 30},\n",
       "  {'estimator__learning_rate': 0.5,\n",
       "   'estimator__max_depth': 2,\n",
       "   'estimator__n_estimators': 500},\n",
       "  {'estimator__learning_rate': 0.1,\n",
       "   'estimator__max_depth': 4,\n",
       "   'estimator__n_estimators': 100},\n",
       "  {'estimator__learning_rate': 0.3,\n",
       "   'estimator__max_depth': 1,\n",
       "   'estimator__n_estimators': 100},\n",
       "  {'estimator__learning_rate': 0.1,\n",
       "   'estimator__max_depth': 2,\n",
       "   'estimator__n_estimators': 500},\n",
       "  {'estimator__learning_rate': 0.5,\n",
       "   'estimator__max_depth': 4,\n",
       "   'estimator__n_estimators': 500}],\n",
       " 'split0_test_score': array([0.60280579, 0.62121876, 0.62867164, 0.5940377 , 0.62384919,\n",
       "        0.60938185, 0.63700132, 0.6356861 , 0.62691802, 0.62121876,\n",
       "        0.60850504, 0.6142043 , 0.6150811 , 0.62560281, 0.61683472,\n",
       "        0.61639632, 0.63437089, 0.61858834, 0.65979833, 0.60982025]),\n",
       " 'split1_test_score': array([0.65322227, 0.66155195, 0.68434897, 0.66418238, 0.66330557,\n",
       "        0.65322227, 0.67908812, 0.66900482, 0.66812801, 0.66242876,\n",
       "        0.66023674, 0.65760631, 0.65497589, 0.66768961, 0.65716791,\n",
       "        0.65409908, 0.67470408, 0.6562911 , 0.6773345 , 0.64839982]),\n",
       " 'split2_test_score': array([0.66008772, 0.65921053, 0.68947368, 0.66798246, 0.67017544,\n",
       "        0.66184211, 0.68245614, 0.69035088, 0.66315789, 0.68377193,\n",
       "        0.66666667, 0.66403509, 0.68377193, 0.66842105, 0.67763158,\n",
       "        0.66184211, 0.69868421, 0.67763158, 0.70219298, 0.66052632]),\n",
       " 'mean_test_score': array([0.63870526, 0.64732708, 0.6674981 , 0.64206751, 0.6524434 ,\n",
       "        0.64148208, 0.66618186, 0.66501393, 0.65273464, 0.65580648,\n",
       "        0.64513615, 0.6452819 , 0.65127631, 0.65390449, 0.65054474,\n",
       "        0.6441125 , 0.66925306, 0.65083701, 0.67977527, 0.63958213]),\n",
       " 'std_test_score': array([0.02553902, 0.0184861 , 0.02753405, 0.03399762, 0.02041275,\n",
       "        0.02296945, 0.02067952, 0.02249451, 0.01836753, 0.02596299,\n",
       "        0.02603478, 0.02213136, 0.02816467, 0.02001454, 0.02525819,\n",
       "        0.01985159, 0.02653722, 0.02441088, 0.01739338, 0.02161928]),\n",
       " 'rank_test_score': array([20, 13,  3, 17,  9, 18,  4,  5,  8,  6, 15, 14, 10,  7, 12, 16,  2,\n",
       "        11,  1, 19], dtype=int32),\n",
       " 'split0_train_score': array([0.99057224, 0.99035299, 0.95746547, 0.99035299, 0.99122999,\n",
       "        0.99122999, 0.96513922, 0.8715194 , 0.99057224, 0.84520938,\n",
       "        0.99079149, 0.99122999, 0.93641745, 0.99122999, 0.94672221,\n",
       "        0.99035299, 0.91493094, 0.84455163, 0.93817145, 0.99101074]),\n",
       " 'split1_train_score': array([0.99298399, 0.99320324, 0.95790397, 0.99298399, 0.99298399,\n",
       "        0.99320324, 0.96557772, 0.88226266, 0.99276474, 0.85419864,\n",
       "        0.99276474, 0.99298399, 0.93904845, 0.99298399, 0.95329971,\n",
       "        0.99144924, 0.92326244, 0.85463714, 0.94606446, 0.99276474]),\n",
       " 'split2_train_score': array([0.99583516, 0.99583516, 0.97588777, 0.99583516, 0.99583516,\n",
       "        0.99583516, 0.98114862, 0.87373959, 0.99583516, 0.83099518,\n",
       "        0.99561596, 0.99583516, 0.95287155, 0.99583516, 0.96975011,\n",
       "        0.99473915, 0.92415607, 0.83888645, 0.95418676, 0.99583516]),\n",
       " 'mean_train_score': array([0.99313047, 0.99313047, 0.9637524 , 0.99305738, 0.99334972,\n",
       "        0.9934228 , 0.97062186, 0.87584055, 0.99305738, 0.84346773,\n",
       "        0.9930574 , 0.99334972, 0.94277915, 0.99334972, 0.95659068,\n",
       "        0.99218046, 0.92078315, 0.84602508, 0.94614089, 0.99320355]),\n",
       " 'std_train_score': array([0.00215107, 0.00223868, 0.00858287, 0.00223869, 0.00189775,\n",
       "        0.00188645, 0.0074457 , 0.00463069, 0.00215852, 0.00955249,\n",
       "        0.00198042, 0.00189775, 0.00721678, 0.00189775, 0.00968483,\n",
       "        0.0018638 , 0.00415419, 0.00651405, 0.00653844, 0.00199385])}"
      ]
     },
     "execution_count": 23,
     "metadata": {},
     "output_type": "execute_result"
    }
   ],
   "source": [
    "random_search.cv_results_"
   ]
  },
  {
   "cell_type": "code",
   "execution_count": 36,
   "metadata": {},
   "outputs": [
    {
     "data": {
      "text/plain": [
       "{'estimator__learning_rate': 0.1,\n",
       " 'estimator__max_depth': 2,\n",
       " 'estimator__n_estimators': 500}"
      ]
     },
     "execution_count": 36,
     "metadata": {},
     "output_type": "execute_result"
    }
   ],
   "source": [
    "best_params = random_search.best_params_; best_params"
   ]
  },
  {
   "cell_type": "code",
   "execution_count": 35,
   "metadata": {},
   "outputs": [
    {
     "data": {
      "text/plain": [
       "OneVsRestClassifier(estimator=XGBClassifier(base_score=0.5, booster='gbtree', colsample_bylevel=1,\n",
       "       colsample_bytree=1, gamma=0, learning_rate=0.1, max_delta_step=0,\n",
       "       max_depth=2, min_child_weight=1, missing=None, n_estimators=500,\n",
       "       n_jobs=-1, nthread=None, objective='binary:logistic',\n",
       "       random_state=0, reg_alpha=0, reg_lambda=1, scale_pos_weight=1,\n",
       "       seed=None, silent=True, subsample=1),\n",
       "          n_jobs=1)"
      ]
     },
     "execution_count": 35,
     "metadata": {},
     "output_type": "execute_result"
    }
   ],
   "source": [
    "xgboost = random_search.estimator.set_params(**best_params); xgboost"
   ]
  },
  {
   "cell_type": "code",
   "execution_count": null,
   "metadata": {},
   "outputs": [],
   "source": [
    "xgboost.fit(X_train, y_train)"
   ]
  },
  {
   "cell_type": "code",
   "execution_count": null,
   "metadata": {},
   "outputs": [],
   "source": [
    "target_names=[str(x) for x in mlb.classes_]"
   ]
  },
  {
   "cell_type": "code",
   "execution_count": null,
   "metadata": {},
   "outputs": [],
   "source": [
    "preds_test = xgboost.predict(X_test)\n",
    "print(classification_report(y_test, preds_test, target_names=target_names, digits=4))\n",
    "print(accuracy_score(y_test, preds_test))"
   ]
  },
  {
   "cell_type": "code",
   "execution_count": null,
   "metadata": {},
   "outputs": [],
   "source": [
    "from sklearn.externals import joblib\n",
    "\n",
    "joblib.dump(xgboost, './models/tfidf_xgboot.pkl')\n",
    "joblib.dump(vectorizer, \"./models/tfidf_vectorizer.pkl\")"
   ]
  },
  {
   "cell_type": "code",
   "execution_count": null,
   "metadata": {},
   "outputs": [],
   "source": []
  }
 ],
 "metadata": {
  "kernelspec": {
   "display_name": "Python 3",
   "language": "python",
   "name": "python3"
  },
  "language_info": {
   "codemirror_mode": {
    "name": "ipython",
    "version": 3
   },
   "file_extension": ".py",
   "mimetype": "text/x-python",
   "name": "python",
   "nbconvert_exporter": "python",
   "pygments_lexer": "ipython3",
   "version": "3.6.5"
  },
  "toc": {
   "base_numbering": 1,
   "nav_menu": {},
   "number_sections": false,
   "sideBar": true,
   "skip_h1_title": false,
   "title_cell": "Table of Contents",
   "title_sidebar": "Contents",
   "toc_cell": false,
   "toc_position": {},
   "toc_section_display": true,
   "toc_window_display": false
  }
 },
 "nbformat": 4,
 "nbformat_minor": 2
}
